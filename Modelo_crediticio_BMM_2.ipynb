{
 "cells": [
  {
   "cell_type": "markdown",
   "id": "c874187f",
   "metadata": {},
   "source": [
    "# Puntuación crediticia Machine Learning"
   ]
  },
  {
   "cell_type": "markdown",
   "id": "edf85b37",
   "metadata": {},
   "source": [
    "Detalles del proyecto\n",
    "\n",
    "Objetivo: \n",
    "Deberán desarrollar un modelo de clasificación de crédito utilizando Machine Learning en Python. Este modelo utilizará la Base de Datos del proyecto anterior y debe estar estructurado de manera que se le alimente una lista de n solicitantes en el mismo formato y se evalúe posteriormente su desempeño.\n",
    "Requisitos:\n",
    "\n",
    "Requisitos:\n",
    "Un documento escrito que explique el modelo de clasificación de crédito basado en Machine Learning y sus supuestos de manera concreta en PDF.\n",
    "Código en Python"
   ]
  },
  {
   "cell_type": "markdown",
   "id": "d5f6b9ba",
   "metadata": {},
   "source": [
    "### Librerias y Data"
   ]
  },
  {
   "cell_type": "code",
   "execution_count": 1,
   "id": "82d73990",
   "metadata": {},
   "outputs": [],
   "source": [
    "import numpy as np\n",
    "import pandas as pd "
   ]
  },
  {
   "cell_type": "code",
   "execution_count": 2,
   "id": "36f75e21",
   "metadata": {},
   "outputs": [
    {
     "name": "stderr",
     "output_type": "stream",
     "text": [
      "/Users/Beto/opt/anaconda3/lib/python3.8/site-packages/IPython/core/interactiveshell.py:3071: DtypeWarning: Columns (26) have mixed types.Specify dtype option on import or set low_memory=False.\n",
      "  has_raised = await self.run_ast_nodes(code_ast.body, cell_name,\n"
     ]
    }
   ],
   "source": [
    "Data = pd.read_csv(\"train.csv\")#,dtype=str"
   ]
  },
  {
   "cell_type": "markdown",
   "id": "6a935cb2",
   "metadata": {},
   "source": [
    "### Limpieza de Datos"
   ]
  },
  {
   "cell_type": "code",
   "execution_count": 3,
   "id": "062afc3b",
   "metadata": {},
   "outputs": [],
   "source": [
    "#Age\n",
    "Data['Age'] = Data['Age'].str.replace(',', '').apply(lambda x: x.replace('_', '') if isinstance(x, str) else x)\n",
    "Data['Age'] = pd.to_numeric(Data['Age'], errors='coerce')\n",
    "\n",
    "Data['Age'] = Data['Age'].apply(lambda x: x if (isinstance(x, (int, float)) and 0 <= x <= 100) else None)\n",
    "Data['Age'] = Data['Age'].fillna('NaN')\n",
    "\n",
    "#Occupation\n",
    "Formato_OC = '_______'\n",
    "Data['Occupation'] = Data['Occupation'].apply(lambda x: None if str(x) == Formato_OC else x) \n",
    "Data['Occupation'] = Data['Occupation'].fillna('NaN')\n",
    "\n",
    "#Annual_Income\n",
    "Data['Annual_Income'] = Data['Annual_Income'].apply(lambda x: str(x).replace('_', ' ') if isinstance(x, str) else x)\n",
    "\n",
    "#Num_Credit_Card\n",
    "Data['Num_Credit_Card'] = Data['Num_Credit_Card'].apply(lambda x: x if (isinstance(x, (int, float)) and 0 <= x <= 10) else None)\n",
    "Data['Num_Credit_Card'] = Data['Num_Credit_Card'].fillna('NaN')\n",
    "\n",
    "#Delay_from_due_date\n",
    "Data['Delay_from_due_date'] = pd.to_numeric(Data['Delay_from_due_date'], errors='coerce')\n",
    "Data['Delay_from_due_date'] = Data['Delay_from_due_date'].apply(lambda x: x if (isinstance(x, (int, float)) and 0 <= x <= 10_000) else None)\n",
    "Data['Delay_from_due_date'] = Data['Delay_from_due_date'].fillna(0)\n",
    "\n",
    "#Credit_Mix\n",
    "formato_CMix = '_'\n",
    "Data['Credit_Mix'] = Data['Credit_Mix'].apply(lambda x: None if str(x) == formato_CMix else x)\n",
    "\n",
    "#Outstanding_Debt\n",
    "Data['Outstanding_Debt'] = Data['Outstanding_Debt'].str.replace(',', '').str.replace('_', '')\n",
    "\n",
    "#Payment_Behaviour\n",
    "formato_PB=['High_spent_Small_value_payments','Low_spent_Large_value_payments','Low_spent_Medium_value_payments',\n",
    "            'Low_spent_Small_value_payments','High_spent_Medium_value_payments','High_spent_Large_value_payments']\n",
    "Data['Payment_Behaviour']=Data['Payment_Behaviour'].apply(lambda x: x if x in formato_PB else np.nan)"
   ]
  },
  {
   "cell_type": "code",
   "execution_count": 4,
   "id": "b7386322",
   "metadata": {},
   "outputs": [],
   "source": [
    "Data.to_excel('DataFrameModelos_Puntuacion.xlsx', index=False)\n",
    "data_frame = pd.read_excel('DataFrameModelos_Puntuacion.xlsx')"
   ]
  },
  {
   "cell_type": "markdown",
   "id": "114cf002",
   "metadata": {},
   "source": [
    "### Modelo crediticio Valoracion"
   ]
  },
  {
   "cell_type": "markdown",
   "id": "378187de",
   "metadata": {},
   "source": [
    "Crear una nueva columna llamada puntaje donde, a base de puntos, se medirá el score."
   ]
  },
  {
   "cell_type": "code",
   "execution_count": 5,
   "id": "b59430ac",
   "metadata": {},
   "outputs": [],
   "source": [
    "mc = data_frame.drop(['Name', \n",
    "                      'Customer_ID',\n",
    "                      'Month',\n",
    "                      'SSN',\n",
    "                      'Monthly_Inhand_Salary',\n",
    "                      'Num_Bank_Accounts',\n",
    "                      'Interest_Rate',\n",
    "                      'Num_of_Loan',\n",
    "                      'Type_of_Loan',\n",
    "                      'Num_of_Delayed_Payment',\n",
    "                      'Changed_Credit_Limit',\n",
    "                      'Num_Credit_Inquiries',\n",
    "                      'Credit_Utilization_Ratio',\n",
    "                      'Credit_History_Age',\n",
    "                      'Total_EMI_per_month',\n",
    "                      'Amount_invested_monthly',\n",
    "                      'Monthly_Balance'], axis=1)\n",
    "\n",
    "mc['Score'] = 0"
   ]
  },
  {
   "cell_type": "code",
   "execution_count": 45,
   "id": "aadefa05",
   "metadata": {},
   "outputs": [],
   "source": [
    "#mc.to_excel('Modelo_Crediticio_MMB.xlsx', index=False)"
   ]
  },
  {
   "cell_type": "markdown",
   "id": "6e806643",
   "metadata": {},
   "source": [
    "## Cantidad total de puntos 670"
   ]
  },
  {
   "cell_type": "code",
   "execution_count": 38,
   "id": "35a627fa",
   "metadata": {},
   "outputs": [
    {
     "name": "stdout",
     "output_type": "stream",
     "text": [
      "Precisión: 58.458 %\n"
     ]
    }
   ],
   "source": [
    "accuracy=(data_frame['Credit_Score']==mc['Final']).sum()\n",
    "total_filas = len(data_frame)\n",
    "precision = accuracy / total_filas *100\n",
    "print(\"Precisión:\", precision, '%')"
   ]
  }
 ],
 "metadata": {
  "kernelspec": {
   "display_name": "Python 3 (ipykernel)",
   "language": "python",
   "name": "python3"
  },
  "language_info": {
   "codemirror_mode": {
    "name": "ipython",
    "version": 3
   },
   "file_extension": ".py",
   "mimetype": "text/x-python",
   "name": "python",
   "nbconvert_exporter": "python",
   "pygments_lexer": "ipython3",
   "version": "3.10.9"
  }
 },
 "nbformat": 4,
 "nbformat_minor": 5
}
