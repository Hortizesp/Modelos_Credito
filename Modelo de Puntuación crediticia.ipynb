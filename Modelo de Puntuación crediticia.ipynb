{
 "cells": [
  {
   "cell_type": "markdown",
   "id": "3f401606",
   "metadata": {},
   "source": [
    "Detalles del proyecto\n",
    "Objetivo: Deberán desarrollar un modelo de crédito tradicional en Excel o Python. Este documento debe estar estructurado de manera que se le alimente una lista de n solicitantes en el mismo formato y evaluemos posteriormente el desempeño del modelo, el desempeño siendo la similitud entre calificación otorgada y la clasificada en el documento.\n",
    "\n",
    "El trabajo escrito debe contar con Introducción, marco teórico (explicando su Tablero de Puntaje de crédito), y conclusión. Se debe en este documento escrito presentar los resultados obtenidos, cuántos errores se obtuvieron, etc. Finalmente, en el documento escrito, una reflexión por parte del equipo sobre los mayores retos al realizar este trabajo. \n",
    "\n",
    "Requisitos:\n",
    "\n",
    "Documento escrito explicando su modelo. Debe explicar los supuestos de manera concreta. - 6pts\n",
    "Como anexo debe venir su código o documento de excel. - 6 pts"
   ]
  },
  {
   "cell_type": "code",
   "execution_count": 3,
   "id": "24c3f305",
   "metadata": {},
   "outputs": [],
   "source": [
    "import numpy as np\n",
    "import pandas as pd \n",
    "import re"
   ]
  },
  {
   "cell_type": "code",
   "execution_count": 4,
   "id": "6886ddbe",
   "metadata": {},
   "outputs": [
    {
     "name": "stderr",
     "output_type": "stream",
     "text": [
      "C:\\Users\\humberto.ortiz\\AppData\\Local\\Temp\\ipykernel_7912\\3860571431.py:1: DtypeWarning: Columns (26) have mixed types. Specify dtype option on import or set low_memory=False.\n",
      "  Data=pd.read_csv(\"train.csv\")#,dtype=str\n"
     ]
    }
   ],
   "source": [
    "Data=pd.read_csv(\"train.csv\")#,dtype=str"
   ]
  },
  {
   "cell_type": "markdown",
   "id": "050fb1ea",
   "metadata": {},
   "source": [
    "### Limpieza de Datos"
   ]
  },
  {
   "cell_type": "code",
   "execution_count": 5,
   "id": "c7c3bd8b",
   "metadata": {},
   "outputs": [],
   "source": [
    "#Name\n",
    "Data=Data.drop(['Name'], axis=1)\n",
    "\n",
    "#Age\n",
    "Data['Age'] = Data['Age'].str.replace(',', '').apply(lambda x: x.replace('_', '') if isinstance(x, str) else x)\n",
    "Data['Age'] = pd.to_numeric(Data['Age'], errors='coerce')\n",
    "\n",
    "Data['Age'] = Data['Age'].apply(lambda x: x if (isinstance(x, (int, float)) and 0 <= x <= 100) else None)\n",
    "\n",
    "#SSN social security number\n",
    "formato_SSN = r'^\\d{3}-\\d{2}-\\d{4}$'\n",
    "Data['SSN'] = Data['SSN'].apply(lambda x: x if isinstance(x, str) and re.match(formato_SSN, x) else None)\n",
    "\n",
    "#Occupation\n",
    "Formato_OC='_______'\n",
    "Data['Occupation']=Data['Occupation'].apply(lambda x: None if str(x) == Formato_OC else x) \n",
    "\n",
    "#Annual_Income\n",
    "Data['Annual_Income'] = Data['Annual_Income'].apply(lambda x: str(x).replace('_', ' ') if isinstance(x, str) else x)\n",
    "\n",
    "#Num_of_Loan and type_loan\n",
    "Data['Num_of_Loan'] = pd.to_numeric(Data['Num_of_Loan'], errors='coerce')\n",
    "Data['Num_of_Loan'] = Data['Num_of_Loan'].apply(lambda x: x if (isinstance(x, (int, float)) and 0 <= x <= 10000) else None)\n",
    "\n",
    "#Hacer un if que si es menor a 0 o mayor a '6' haga lo de abajo para solo hacer los errores sin tocar og \n",
    "#def contar_palabras(texto):\n",
    "#    if pd.notna(texto):\n",
    "#        return len(texto.split(', ')) + 1 \n",
    "#    else:\n",
    "#        return None\n",
    "\n",
    "#Data['Num_of_Loan'] = Data['Type_of_Loan'].apply(contar_palabras)\n",
    "\n",
    "#Num_of_Delayed_Payment\n",
    "Data['Num_of_Delayed_Payment'] = Data['Num_of_Delayed_Payment'].str.replace(',', '').apply(lambda x: x.replace('_', '') if isinstance(x, str) else x)\n",
    "Data['Num_of_Delayed_Payment'] = pd.to_numeric(Data['Num_of_Delayed_Payment'], errors='coerce')\n",
    "Data['Num_of_Delayed_Payment'] = Data['Num_of_Delayed_Payment'].apply(lambda x: x if (isinstance(x, (int, float)) and 0 <= x <= 10_000) else None)\n",
    "Data['Num_of_Delayed_Payment'] = Data['Num_of_Delayed_Payment'].fillna(0)\n",
    "\n",
    "#Changed_Credit_Limit\n",
    "Data['Changed_Credit_Limit']=Data['Changed_Credit_Limit'].str.replace(',', '').str.replace('_', '0')\n",
    "\n",
    "#Delay_from_due_date\n",
    "Data['Delay_from_due_date'] = pd.to_numeric(Data['Delay_from_due_date'], errors='coerce')\n",
    "Data['Delay_from_due_date'] = Data['Delay_from_due_date'].apply(lambda x: x if (isinstance(x, (int, float)) and 0 <= x <= 10_000) else None)\n",
    "Data['Delay_from_due_date'] = Data['Delay_from_due_date'].fillna(0)\n",
    "\n",
    "#Credit_Mix\n",
    "formato_CMix='_'\n",
    "Data['Credit_Mix']=Data['Credit_Mix'].apply(lambda x: None if str(x) == formato_CMix else x)\n",
    "\n",
    "#Outstanding_Debt\n",
    "Data['Outstanding_Debt'] = Data['Outstanding_Debt'].str.replace(',', '').str.replace('_', '')\n",
    "\n",
    "#Amount_invested_monthly \n",
    "Data['Amount_invested_monthly']=Data['Amount_invested_monthly'].fillna(0)\n",
    "\n",
    "#Payment_Behaviour\n",
    "formato_PB=['High_spent_Small_value_payments','Low_spent_Large_value_payments','Low_spent_Medium_value_payments','Low_spent_Small_value_payments','High_spent_Medium_value_payments','High_spent_Large_value_payments']\n",
    "Data['Payment_Behaviour']=Data['Payment_Behaviour'].apply(lambda x: x if x in formato_PB else np.nan)\n"
   ]
  },
  {
   "cell_type": "code",
   "execution_count": 70,
   "id": "93792571",
   "metadata": {},
   "outputs": [
    {
     "data": {
      "text/html": [
       "<div>\n",
       "<style scoped>\n",
       "    .dataframe tbody tr th:only-of-type {\n",
       "        vertical-align: middle;\n",
       "    }\n",
       "\n",
       "    .dataframe tbody tr th {\n",
       "        vertical-align: top;\n",
       "    }\n",
       "\n",
       "    .dataframe thead th {\n",
       "        text-align: right;\n",
       "    }\n",
       "</style>\n",
       "<table border=\"1\" class=\"dataframe\">\n",
       "  <thead>\n",
       "    <tr style=\"text-align: right;\">\n",
       "      <th></th>\n",
       "      <th>ID</th>\n",
       "      <th>Age</th>\n",
       "      <th>Changed_Credit_Limit</th>\n",
       "      <th>Num_of_Delayed_Payment</th>\n",
       "      <th>Outstanding_Debt</th>\n",
       "    </tr>\n",
       "  </thead>\n",
       "  <tbody>\n",
       "    <tr>\n",
       "      <th>2</th>\n",
       "      <td>0x1604</td>\n",
       "      <td>NaN</td>\n",
       "      <td>0</td>\n",
       "      <td>7.0</td>\n",
       "      <td>809.98</td>\n",
       "    </tr>\n",
       "  </tbody>\n",
       "</table>\n",
       "</div>"
      ],
      "text/plain": [
       "       ID  Age Changed_Credit_Limit  Num_of_Delayed_Payment Outstanding_Debt\n",
       "2  0x1604  NaN                    0                     7.0           809.98"
      ]
     },
     "execution_count": 70,
     "metadata": {},
     "output_type": "execute_result"
    }
   ],
   "source": [
    "#Pruebas\n",
    "# x=['ID','Age','Changed_Credit_Limit','Num_of_Delayed_Payment','Outstanding_Debt']\n",
    "# Datax=Data[x]\n",
    "# Datax[Datax['ID']=='0x1604']\n",
    "#Datax"
   ]
  },
  {
   "cell_type": "code",
   "execution_count": 6,
   "id": "9ee6f1f3",
   "metadata": {},
   "outputs": [],
   "source": [
    "Data.to_excel('DataFrameModelos_Puntuacion.xlsx', index=False)"
   ]
  },
  {
   "cell_type": "markdown",
   "id": "edd1c21f",
   "metadata": {},
   "source": [
    "### Modelo crediticio Valoracion"
   ]
  },
  {
   "cell_type": "code",
   "execution_count": null,
   "id": "926a9dc4",
   "metadata": {},
   "outputs": [],
   "source": [
    "#Crear una nueva columna llamada puntaje donde a base de puntos se mide el score "
   ]
  },
  {
   "cell_type": "code",
   "execution_count": 8,
   "id": "e65e3845",
   "metadata": {},
   "outputs": [],
   "source": [
    "mc=Data.drop(['Customer_ID','Month','SSN','Credit_Score'], axis=1)\n",
    "mc['Score']=0"
   ]
  },
  {
   "cell_type": "code",
   "execution_count": 19,
   "id": "6d876d87",
   "metadata": {},
   "outputs": [],
   "source": [
    "#Filtro Annual_income \n",
    "mc['Annual_Income'] = pd.to_numeric(mc['Annual_Income'], errors='coerce')\n",
    "\n",
    "mean_income = mc['Annual_Income'].mean()\n",
    "percentile_10 = mc['Annual_Income'].quantile(0.10)\n",
    "percentile_25 = mc['Annual_Income'].quantile(0.25)\n",
    "percentile_50 = mc['Annual_Income'].quantile(0.50)\n",
    "\n",
    "def asignar_puntaje(income):\n",
    "    if income >= mean_income:\n",
    "        return 5\n",
    "    elif income < percentile_10:\n",
    "        return 0\n",
    "    elif percentile_10 <= income < percentile_25:\n",
    "        return 2\n",
    "    elif percentile_25 <= income < percentile_50:\n",
    "        return 3\n",
    "    else:\n",
    "        return 0\n",
    "mc['Score'] = mc['Annual_Income'].apply(asignar_puntaje)\n"
   ]
  },
  {
   "cell_type": "code",
   "execution_count": null,
   "id": "5478d312",
   "metadata": {},
   "outputs": [],
   "source": []
  },
 ],
 "metadata": {
  "kernelspec": {
   "display_name": "Python 3 (ipykernel)",
   "language": "python",
   "name": "python3"
  },
  "language_info": {
   "codemirror_mode": {
    "name": "ipython",
    "version": 3
   },
   "file_extension": ".py",
   "mimetype": "text/x-python",
   "name": "python",
   "nbconvert_exporter": "python",
   "pygments_lexer": "ipython3",
   "version": "3.10.9"
  }
 },
 "nbformat": 4,
 "nbformat_minor": 5
}
