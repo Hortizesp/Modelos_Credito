{
 "cells": [
  {
   "cell_type": "markdown",
   "metadata": {},
   "source": [
    "# Puntuación crediticia"
   ]
  },
  {
   "cell_type": "markdown",
   "metadata": {},
   "source": [
    "Detalles del proyecto\n",
    "\n",
    "Objetivo: Deberán desarrollar un modelo de crédito tradicional en Excel o Python. \n",
    "\n",
    "Este documento debe estar estructurado de manera que se le alimente una lista de n solicitantes en el mismo formato y evaluemos posteriormente el desempeño del modelo, el desempeño siendo la similitud entre calificación otorgada y la clasificada en el documento.\n",
    "\n",
    "El trabajo escrito debe contar con Introducción, marco teórico (explicando su Tablero de Puntaje de crédito), y conclusión. Se debe en este documento escrito presentar los resultados obtenidos, cuántos errores se obtuvieron, etc. Finalmente, en el documento escrito, una reflexión por parte del equipo sobre los mayores retos al realizar este trabajo. \n",
    "\n",
    "Requisitos:\n",
    "\n",
    "Documento escrito explicando su modelo. \\\n",
    "Debe explicar los supuestos de manera concreta. - 6pts\\\n",
    "Como anexo debe venir su código o documento de excel. - 6 pts"
   ]
  },
  {
   "cell_type": "markdown",
   "metadata": {},
   "source": [
    "### Librerias y Data"
   ]
  },
  {
   "cell_type": "code",
   "execution_count": 1,
   "metadata": {},
   "outputs": [],
   "source": [
    "import numpy as np\n",
    "import pandas as pd "
   ]
  },
  {
   "cell_type": "code",
   "execution_count": 2,
   "metadata": {},
   "outputs": [
    {
     "name": "stderr",
     "output_type": "stream",
     "text": [
      "/Users/Beto/opt/anaconda3/lib/python3.8/site-packages/IPython/core/interactiveshell.py:3071: DtypeWarning: Columns (26) have mixed types.Specify dtype option on import or set low_memory=False.\n",
      "  has_raised = await self.run_ast_nodes(code_ast.body, cell_name,\n"
     ]
    }
   ],
   "source": [
    "Data = pd.read_csv(\"train.csv\")#,dtype=str"
   ]
  },
  {
   "cell_type": "markdown",
   "metadata": {},
   "source": [
    "### Limpieza de Datos"
   ]
  },
  {
   "cell_type": "code",
   "execution_count": 3,
   "metadata": {},
   "outputs": [],
   "source": [
    "#Age\n",
    "Data['Age'] = Data['Age'].str.replace(',', '').apply(lambda x: x.replace('_', '') if isinstance(x, str) else x)\n",
    "Data['Age'] = pd.to_numeric(Data['Age'], errors='coerce')\n",
    "\n",
    "Data['Age'] = Data['Age'].apply(lambda x: x if (isinstance(x, (int, float)) and 0 <= x <= 100) else None)\n",
    "Data['Age'] = Data['Age'].fillna('NaN')\n",
    "\n",
    "#Occupation\n",
    "Formato_OC = '_______'\n",
    "Data['Occupation'] = Data['Occupation'].apply(lambda x: None if str(x) == Formato_OC else x) \n",
    "Data['Occupation'] = Data['Occupation'].fillna('NaN')\n",
    "\n",
    "#Annual_Income\n",
    "Data['Annual_Income'] = Data['Annual_Income'].apply(lambda x: str(x).replace('_', ' ') if isinstance(x, str) else x)\n",
    "\n",
    "#Num_Credit_Card\n",
    "Data['Num_Credit_Card'] = Data['Num_Credit_Card'].apply(lambda x: x if (isinstance(x, (int, float)) and 0 <= x <= 10) else None)\n",
    "Data['Num_Credit_Card'] = Data['Num_Credit_Card'].fillna('NaN')\n",
    "\n",
    "#Delay_from_due_date\n",
    "Data['Delay_from_due_date'] = pd.to_numeric(Data['Delay_from_due_date'], errors='coerce')\n",
    "Data['Delay_from_due_date'] = Data['Delay_from_due_date'].apply(lambda x: x if (isinstance(x, (int, float)) and 0 <= x <= 10_000) else None)\n",
    "Data['Delay_from_due_date'] = Data['Delay_from_due_date'].fillna(0)\n",
    "\n",
    "#Credit_Mix\n",
    "formato_CMix = '_'\n",
    "Data['Credit_Mix'] = Data['Credit_Mix'].apply(lambda x: None if str(x) == formato_CMix else x)\n",
    "\n",
    "#Outstanding_Debt\n",
    "Data['Outstanding_Debt'] = Data['Outstanding_Debt'].str.replace(',', '').str.replace('_', '')\n",
    "\n",
    "#Payment_Behaviour\n",
    "formato_PB=['High_spent_Small_value_payments','Low_spent_Large_value_payments','Low_spent_Medium_value_payments',\n",
    "            'Low_spent_Small_value_payments','High_spent_Medium_value_payments','High_spent_Large_value_payments']\n",
    "Data['Payment_Behaviour']=Data['Payment_Behaviour'].apply(lambda x: x if x in formato_PB else np.nan)"
   ]
  },
  {
   "cell_type": "code",
   "execution_count": 4,
   "metadata": {},
   "outputs": [],
   "source": [
    "Data.to_excel('DataFrameModelos_Puntuacion.xlsx', index=False)\n",
    "data_frame = pd.read_excel('DataFrameModelos_Puntuacion.xlsx')"
   ]
  },
  {
   "cell_type": "markdown",
   "metadata": {},
   "source": [
    "### Modelo crediticio Valoracion"
   ]
  },
  {
   "cell_type": "markdown",
   "metadata": {},
   "source": [
    "Crear una nueva columna llamada puntaje donde, a base de puntos, se medirá el score."
   ]
  },
  {
   "cell_type": "code",
   "execution_count": 5,
   "metadata": {},
   "outputs": [],
   "source": [
    "mc = data_frame.drop(['Name', \n",
    "                      'Customer_ID',\n",
    "                      'Month',\n",
    "                      'SSN',\n",
    "                      'Monthly_Inhand_Salary',\n",
    "                      'Num_Bank_Accounts',\n",
    "                      'Interest_Rate',\n",
    "                      'Num_of_Loan',\n",
    "                      'Type_of_Loan',\n",
    "                      'Num_of_Delayed_Payment',\n",
    "                      'Changed_Credit_Limit',\n",
    "                      'Num_Credit_Inquiries',\n",
    "                      'Credit_Utilization_Ratio',\n",
    "                      'Credit_History_Age',\n",
    "                      'Total_EMI_per_month',\n",
    "                      'Amount_invested_monthly',\n",
    "                      'Monthly_Balance'], axis=1)\n",
    "\n",
    "mc['Score'] = 0"
   ]
  },
  {
   "cell_type": "code",
   "execution_count": 39,
   "metadata": {},
   "outputs": [],
   "source": [
    "#Pruebas para ver el comportamiento de cada columna\n",
    "\n",
    "#Data['Annual_Income'] = pd.to_numeric(Data['Annual_Income'], errors='coerce')\n",
    "#x=Data[Data['Credit_Score']>='Poor']\n",
    "#y=x['Payment_Behaviour'].value_counts()"
   ]
  },
  {
   "cell_type": "code",
   "execution_count": 6,
   "metadata": {},
   "outputs": [],
   "source": [
    "    #Filtro Occupation\n",
    "def asignar_puntaje_occupation(trabajo):\n",
    "        if trabajo == 'NaN':\n",
    "            return 0 \n",
    "        else:\n",
    "            return 300\n",
    "        \n",
    "mc['Score'] += mc['Occupation'].apply(asignar_puntaje_occupation)\n",
    "\n",
    "#Filtro Annual_income \n",
    "mc['Annual_Income'] = pd.to_numeric(mc['Annual_Income'], errors='coerce')\n",
    "mean_income = mc['Annual_Income'].mean()\n",
    "\n",
    "def asignar_puntaje_income(income):\n",
    "        if income > 99_999:\n",
    "            return 500\n",
    "        elif 99_999<=income <=9_999:\n",
    "            return 300\n",
    "        else:\n",
    "            return 100\n",
    "        \n",
    "mc['Score'] += mc['Annual_Income'].apply(asignar_puntaje_income)\n",
    "\n",
    "    #Filtro Delay_from_due_date\n",
    "mc['Delay_from_due_date'] = pd.to_numeric(mc['Delay_from_due_date'], errors='coerce')\n",
    "\n",
    "def asignar_puntaje_Delay_from_due_date(Delay_from_due_date):\n",
    "        if Delay_from_due_date == [8,14,10]:\n",
    "            return 200\n",
    "        elif Delay_from_due_date == [15,13,9,12]:\n",
    "            return 100\n",
    "        elif Delay_from_due_date == [27,19,9]:\n",
    "            return 0\n",
    "        else:\n",
    "            return 80\n",
    "        \n",
    "mc['Score'] += mc['Delay_from_due_date'].apply(asignar_puntaje_Delay_from_due_date)\n",
    "\n",
    "    #Filtro Credit_Mix \n",
    "def asignar_puntaje_Credit_mix(Credit_mix):\n",
    "        if Credit_mix == 'Bad':\n",
    "            return 50 \n",
    "        elif Credit_mix =='Standard':\n",
    "            return 80\n",
    "        elif Credit_mix =='Good':\n",
    "            return 300\n",
    "        else:\n",
    "            return 0\n",
    "        \n",
    "mc['Score'] += mc['Credit_Mix'].apply(asignar_puntaje_Credit_mix)    \n",
    "    \n",
    "    #Filtro Outstanding_Debt\n",
    "mc['Outstanding_Debt'] = pd.to_numeric(mc['Outstanding_Debt'], errors='coerce')\n",
    "Outstanding_Debt_mean = mc['Outstanding_Debt'].mean()\n",
    "\n",
    "def asignar_puntaje_Outstanding_Debt(Outstanding_Debt):\n",
    "        if Outstanding_Debt < 1166.155000:\n",
    "            return 300\n",
    "        elif 1166.155000 <= Outstanding_Debt < 1426.220376 :\n",
    "            return 150\n",
    "        elif 1426.220376 <= Outstanding_Debt < 1945.962500:\n",
    "            return 100\n",
    "        else: \n",
    "            return 50\n",
    "        \n",
    "mc['Score'] += mc['Outstanding_Debt'].apply(asignar_puntaje_Outstanding_Debt)"
   ]
  },
  {
   "cell_type": "code",
   "execution_count": 8,
   "metadata": {},
   "outputs": [
    {
     "data": {
      "text/plain": [
       "0"
      ]
     },
     "execution_count": 8,
     "metadata": {},
     "output_type": "execute_result"
    }
   ],
   "source": [
    "mc['Score'].isna().sum()"
   ]
  },
  {
   "cell_type": "code",
   "execution_count": 7,
   "metadata": {},
   "outputs": [
    {
     "data": {
      "text/plain": [
       "count    100000.000000\n",
       "mean        840.608700\n",
       "std         255.706141\n",
       "min         530.000000\n",
       "25%         610.000000\n",
       "50%         780.000000\n",
       "75%        1080.000000\n",
       "max        1480.000000\n",
       "Name: Score, dtype: float64"
      ]
     },
     "execution_count": 7,
     "metadata": {},
     "output_type": "execute_result"
    }
   ],
   "source": [
    "mc['Score'].describe()"
   ]
  },
  {
   "cell_type": "code",
   "execution_count": 37,
   "metadata": {},
   "outputs": [
    {
     "data": {
      "text/plain": [
       "Standard    41639\n",
       "Poor        31972\n",
       "Good        26389\n",
       "Name: Final, dtype: int64"
      ]
     },
     "execution_count": 37,
     "metadata": {},
     "output_type": "execute_result"
    }
   ],
   "source": [
    "mc['Final'] = 0\n",
    "mc['Score'] = pd.to_numeric(mc['Score'], errors='coerce')\n",
    "\n",
    "def asignar_puntaje_score(score):\n",
    "        if score < 650: #score < 635\n",
    "            return \"Poor\"\n",
    "        elif 650 <= score < 1075: #635 <= score < 1075\n",
    "            return \"Standard\"\n",
    "        elif 1075 <= score:  #1075 <= score\n",
    "            return \"Good\"\n",
    "\n",
    "mc['Final'] = mc['Score'].apply(asignar_puntaje_score) #57,58\n",
    "mc['Final'].value_counts()"
   ]
  },
  {
   "cell_type": "code",
   "execution_count": 45,
   "metadata": {},
   "outputs": [],
   "source": [
    "mc.to_excel('Modelo_Crediticio_MMB.xlsx', index=False)"
   ]
  },
  {
   "cell_type": "markdown",
   "metadata": {},
   "source": [
    "## Cantidad total de puntos 670"
   ]
  },
  {
   "cell_type": "code",
   "execution_count": 38,
   "metadata": {},
   "outputs": [
    {
     "name": "stdout",
     "output_type": "stream",
     "text": [
      "Precisión: 58.458 %\n"
     ]
    }
   ],
   "source": [
    "accuracy=(data_frame['Credit_Score']==mc['Final']).sum()\n",
    "total_filas = len(data_frame)\n",
    "precision = accuracy / total_filas *100\n",
    "print(\"Precisión:\", precision, '%')"
   ]
  }
 ],
 "metadata": {
  "kernelspec": {
   "display_name": "Python 3",
   "language": "python",
   "name": "python3"
  },
  "language_info": {
   "codemirror_mode": {
    "name": "ipython",
    "version": 3
   },
   "file_extension": ".py",
   "mimetype": "text/x-python",
   "name": "python",
   "nbconvert_exporter": "python",
   "pygments_lexer": "ipython3",
   "version": "3.8.3"
  }
 },
 "nbformat": 4,
 "nbformat_minor": 5
}
